{
 "cells": [
  {
   "cell_type": "code",
   "execution_count": null,
   "id": "ca4a8b8f",
   "metadata": {},
   "outputs": [],
   "source": [
    "#### SEGMENTED AUDIO PREDICTION SCRIPT\n",
    "\n",
    "import os\n",
    "from collections import defaultdict\n",
    "\n",
    "# Directory containing segmented audio clips\n",
    "segmented_dir = \"./cut\"\n",
    "\n",
    "# Collect all audio files and group by base name (without segment index)\n",
    "audio_groups = defaultdict(list)\n",
    "for fname in os.listdir(segmented_dir):\n",
    "     if fname.lower().endswith(('.wav', '.mp3', '.flac', '.ogg')):\n",
    "          # Extract base name (e.g., \"audio(1).wav\" -> \"audio\")\n",
    "          base = fname.split('(')[0]\n",
    "          audio_groups[base].append(os.path.join(segmented_dir, fname))\n",
    "\n",
    "# Function to predict for a single audio file\n",
    "def predict_single(file_path):\n",
    "     return predict_audio(file_path, model, feature_extractor, device)\n",
    "\n",
    "# Aggregate predictions for each group\n",
    "results = {}\n",
    "for base, files in audio_groups.items():\n",
    "     fake_count = 0\n",
    "     real_count = 0\n",
    "     for fpath in files:\n",
    "          pred = predict_single(fpath)\n",
    "          if pred[\"label\"] == \"fake\":\n",
    "               fake_count += 1\n",
    "          else:\n",
    "               real_count += 1\n",
    "     total = fake_count + real_count\n",
    "     results[base] = {\n",
    "          \"fake_ratio\": fake_count / total if total > 0 else 0,\n",
    "          \"real_ratio\": real_count / total if total > 0 else 0,\n",
    "          \"fake_count\": fake_count,\n",
    "          \"real_count\": real_count,\n",
    "          \"total\": total\n",
    "     }\n",
    "\n",
    "# Print summary\n",
    "for base, stats in results.items():\n",
    "     print(f\"{base}: Fake {stats['fake_count']}/{stats['total']} ({stats['fake_ratio']:.2f}), \"\n",
    "            f\"Real {stats['real_count']}/{stats['total']} ({stats['real_ratio']:.2f})\")"
   ]
  }
 ],
 "metadata": {
  "language_info": {
   "name": "python"
  }
 },
 "nbformat": 4,
 "nbformat_minor": 5
}
